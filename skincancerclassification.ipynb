{
 "cells": [
  {
   "cell_type": "code",
   "execution_count": 1,
   "id": "2352ada9",
   "metadata": {
    "_cell_guid": "b1076dfc-b9ad-4769-8c92-a6c4dae69d19",
    "_uuid": "8f2839f25d086af736a60e9eeb907d3b93b6e0e5",
    "execution": {
     "iopub.execute_input": "2023-05-14T17:09:30.108334Z",
     "iopub.status.busy": "2023-05-14T17:09:30.107713Z",
     "iopub.status.idle": "2023-05-14T17:09:41.423490Z",
     "shell.execute_reply": "2023-05-14T17:09:41.422127Z"
    },
    "papermill": {
     "duration": 11.329496,
     "end_time": "2023-05-14T17:09:41.426836",
     "exception": false,
     "start_time": "2023-05-14T17:09:30.097340",
     "status": "completed"
    },
    "tags": []
   },
   "outputs": [
    {
     "name": "stderr",
     "output_type": "stream",
     "text": [
      "/opt/conda/lib/python3.10/site-packages/scipy/__init__.py:146: UserWarning: A NumPy version >=1.16.5 and <1.23.0 is required for this version of SciPy (detected version 1.23.5\n",
      "  warnings.warn(f\"A NumPy version >={np_minversion} and <{np_maxversion}\"\n"
     ]
    }
   ],
   "source": [
    "import numpy as np \n",
    "import pandas as pd \n",
    "import os, shutil\n",
    "import tensorflow as tf\n",
    "import matplotlib.pyplot as plt\n",
    "%matplotlib inline\n",
    "\n",
    "from sklearn.model_selection import train_test_split"
   ]
  },
  {
   "cell_type": "code",
   "execution_count": 2,
   "id": "e474ea35",
   "metadata": {
    "execution": {
     "iopub.execute_input": "2023-05-14T17:09:41.446128Z",
     "iopub.status.busy": "2023-05-14T17:09:41.444329Z",
     "iopub.status.idle": "2023-05-14T17:09:41.462939Z",
     "shell.execute_reply": "2023-05-14T17:09:41.461941Z"
    },
    "papermill": {
     "duration": 0.030642,
     "end_time": "2023-05-14T17:09:41.465547",
     "exception": false,
     "start_time": "2023-05-14T17:09:41.434905",
     "status": "completed"
    },
    "tags": []
   },
   "outputs": [
    {
     "data": {
      "text/plain": [
       "['hmnist_8_8_RGB.csv',\n",
       " 'hmnist_28_28_RGB.csv',\n",
       " 'HAM10000_images_part_1',\n",
       " 'ham10000_images_part_1',\n",
       " 'hmnist_8_8_L.csv',\n",
       " 'HAM10000_images_part_2',\n",
       " 'ham10000_images_part_2',\n",
       " 'hmnist_28_28_L.csv',\n",
       " 'HAM10000_metadata.csv']"
      ]
     },
     "execution_count": 2,
     "metadata": {},
     "output_type": "execute_result"
    }
   ],
   "source": [
    "base_dir = os.listdir('../input/skin-cancer-mnist-ham10000') # from Kaggle\n",
    "base_dir"
   ]
  },
  {
   "cell_type": "markdown",
   "id": "23553aea",
   "metadata": {
    "papermill": {
     "duration": 0.007876,
     "end_time": "2023-05-14T17:09:41.482158",
     "exception": false,
     "start_time": "2023-05-14T17:09:41.474282",
     "status": "completed"
    },
    "tags": []
   },
   "source": [
    "# <font color=darkgreen> Reading file: RGB image scale 28 by 28"
   ]
  },
  {
   "cell_type": "code",
   "execution_count": 3,
   "id": "94d48a17",
   "metadata": {
    "execution": {
     "iopub.execute_input": "2023-05-14T17:09:41.500775Z",
     "iopub.status.busy": "2023-05-14T17:09:41.500035Z",
     "iopub.status.idle": "2023-05-14T17:09:47.135588Z",
     "shell.execute_reply": "2023-05-14T17:09:47.134388Z"
    },
    "papermill": {
     "duration": 5.64828,
     "end_time": "2023-05-14T17:09:47.138708",
     "exception": false,
     "start_time": "2023-05-14T17:09:41.490428",
     "status": "completed"
    },
    "tags": []
   },
   "outputs": [],
   "source": [
    "rgb = pd.read_csv('../input/skin-cancer-mnist-ham10000/hmnist_28_28_RGB.csv')"
   ]
  },
  {
   "cell_type": "code",
   "execution_count": 4,
   "id": "2b744c3a",
   "metadata": {
    "execution": {
     "iopub.execute_input": "2023-05-14T17:09:47.156994Z",
     "iopub.status.busy": "2023-05-14T17:09:47.156548Z",
     "iopub.status.idle": "2023-05-14T17:09:47.197387Z",
     "shell.execute_reply": "2023-05-14T17:09:47.196460Z"
    },
    "papermill": {
     "duration": 0.053071,
     "end_time": "2023-05-14T17:09:47.199965",
     "exception": false,
     "start_time": "2023-05-14T17:09:47.146894",
     "status": "completed"
    },
    "tags": []
   },
   "outputs": [
    {
     "data": {
      "text/html": [
       "<div>\n",
       "<style scoped>\n",
       "    .dataframe tbody tr th:only-of-type {\n",
       "        vertical-align: middle;\n",
       "    }\n",
       "\n",
       "    .dataframe tbody tr th {\n",
       "        vertical-align: top;\n",
       "    }\n",
       "\n",
       "    .dataframe thead th {\n",
       "        text-align: right;\n",
       "    }\n",
       "</style>\n",
       "<table border=\"1\" class=\"dataframe\">\n",
       "  <thead>\n",
       "    <tr style=\"text-align: right;\">\n",
       "      <th></th>\n",
       "      <th>pixel0000</th>\n",
       "      <th>pixel0001</th>\n",
       "      <th>pixel0002</th>\n",
       "      <th>pixel0003</th>\n",
       "      <th>pixel0004</th>\n",
       "      <th>pixel0005</th>\n",
       "      <th>pixel0006</th>\n",
       "      <th>pixel0007</th>\n",
       "      <th>pixel0008</th>\n",
       "      <th>pixel0009</th>\n",
       "      <th>...</th>\n",
       "      <th>pixel2343</th>\n",
       "      <th>pixel2344</th>\n",
       "      <th>pixel2345</th>\n",
       "      <th>pixel2346</th>\n",
       "      <th>pixel2347</th>\n",
       "      <th>pixel2348</th>\n",
       "      <th>pixel2349</th>\n",
       "      <th>pixel2350</th>\n",
       "      <th>pixel2351</th>\n",
       "      <th>label</th>\n",
       "    </tr>\n",
       "  </thead>\n",
       "  <tbody>\n",
       "    <tr>\n",
       "      <th>0</th>\n",
       "      <td>192</td>\n",
       "      <td>153</td>\n",
       "      <td>193</td>\n",
       "      <td>195</td>\n",
       "      <td>155</td>\n",
       "      <td>192</td>\n",
       "      <td>197</td>\n",
       "      <td>154</td>\n",
       "      <td>185</td>\n",
       "      <td>202</td>\n",
       "      <td>...</td>\n",
       "      <td>173</td>\n",
       "      <td>124</td>\n",
       "      <td>138</td>\n",
       "      <td>183</td>\n",
       "      <td>147</td>\n",
       "      <td>166</td>\n",
       "      <td>185</td>\n",
       "      <td>154</td>\n",
       "      <td>177</td>\n",
       "      <td>2</td>\n",
       "    </tr>\n",
       "    <tr>\n",
       "      <th>1</th>\n",
       "      <td>25</td>\n",
       "      <td>14</td>\n",
       "      <td>30</td>\n",
       "      <td>68</td>\n",
       "      <td>48</td>\n",
       "      <td>75</td>\n",
       "      <td>123</td>\n",
       "      <td>93</td>\n",
       "      <td>126</td>\n",
       "      <td>158</td>\n",
       "      <td>...</td>\n",
       "      <td>60</td>\n",
       "      <td>39</td>\n",
       "      <td>55</td>\n",
       "      <td>25</td>\n",
       "      <td>14</td>\n",
       "      <td>28</td>\n",
       "      <td>25</td>\n",
       "      <td>14</td>\n",
       "      <td>27</td>\n",
       "      <td>2</td>\n",
       "    </tr>\n",
       "    <tr>\n",
       "      <th>2</th>\n",
       "      <td>192</td>\n",
       "      <td>138</td>\n",
       "      <td>153</td>\n",
       "      <td>200</td>\n",
       "      <td>145</td>\n",
       "      <td>163</td>\n",
       "      <td>201</td>\n",
       "      <td>142</td>\n",
       "      <td>160</td>\n",
       "      <td>206</td>\n",
       "      <td>...</td>\n",
       "      <td>167</td>\n",
       "      <td>129</td>\n",
       "      <td>143</td>\n",
       "      <td>159</td>\n",
       "      <td>124</td>\n",
       "      <td>142</td>\n",
       "      <td>136</td>\n",
       "      <td>104</td>\n",
       "      <td>117</td>\n",
       "      <td>2</td>\n",
       "    </tr>\n",
       "    <tr>\n",
       "      <th>3</th>\n",
       "      <td>38</td>\n",
       "      <td>19</td>\n",
       "      <td>30</td>\n",
       "      <td>95</td>\n",
       "      <td>59</td>\n",
       "      <td>72</td>\n",
       "      <td>143</td>\n",
       "      <td>103</td>\n",
       "      <td>119</td>\n",
       "      <td>171</td>\n",
       "      <td>...</td>\n",
       "      <td>44</td>\n",
       "      <td>26</td>\n",
       "      <td>36</td>\n",
       "      <td>25</td>\n",
       "      <td>12</td>\n",
       "      <td>17</td>\n",
       "      <td>25</td>\n",
       "      <td>12</td>\n",
       "      <td>15</td>\n",
       "      <td>2</td>\n",
       "    </tr>\n",
       "    <tr>\n",
       "      <th>4</th>\n",
       "      <td>158</td>\n",
       "      <td>113</td>\n",
       "      <td>139</td>\n",
       "      <td>194</td>\n",
       "      <td>144</td>\n",
       "      <td>174</td>\n",
       "      <td>215</td>\n",
       "      <td>162</td>\n",
       "      <td>191</td>\n",
       "      <td>225</td>\n",
       "      <td>...</td>\n",
       "      <td>209</td>\n",
       "      <td>166</td>\n",
       "      <td>185</td>\n",
       "      <td>172</td>\n",
       "      <td>135</td>\n",
       "      <td>149</td>\n",
       "      <td>109</td>\n",
       "      <td>78</td>\n",
       "      <td>92</td>\n",
       "      <td>2</td>\n",
       "    </tr>\n",
       "  </tbody>\n",
       "</table>\n",
       "<p>5 rows × 2353 columns</p>\n",
       "</div>"
      ],
      "text/plain": [
       "   pixel0000  pixel0001  pixel0002  pixel0003  pixel0004  pixel0005  \\\n",
       "0        192        153        193        195        155        192   \n",
       "1         25         14         30         68         48         75   \n",
       "2        192        138        153        200        145        163   \n",
       "3         38         19         30         95         59         72   \n",
       "4        158        113        139        194        144        174   \n",
       "\n",
       "   pixel0006  pixel0007  pixel0008  pixel0009  ...  pixel2343  pixel2344  \\\n",
       "0        197        154        185        202  ...        173        124   \n",
       "1        123         93        126        158  ...         60         39   \n",
       "2        201        142        160        206  ...        167        129   \n",
       "3        143        103        119        171  ...         44         26   \n",
       "4        215        162        191        225  ...        209        166   \n",
       "\n",
       "   pixel2345  pixel2346  pixel2347  pixel2348  pixel2349  pixel2350  \\\n",
       "0        138        183        147        166        185        154   \n",
       "1         55         25         14         28         25         14   \n",
       "2        143        159        124        142        136        104   \n",
       "3         36         25         12         17         25         12   \n",
       "4        185        172        135        149        109         78   \n",
       "\n",
       "   pixel2351  label  \n",
       "0        177      2  \n",
       "1         27      2  \n",
       "2        117      2  \n",
       "3         15      2  \n",
       "4         92      2  \n",
       "\n",
       "[5 rows x 2353 columns]"
      ]
     },
     "execution_count": 4,
     "metadata": {},
     "output_type": "execute_result"
    }
   ],
   "source": [
    "rgb.head()"
   ]
  },
  {
   "cell_type": "code",
   "execution_count": 5,
   "id": "67f3ea89",
   "metadata": {
    "execution": {
     "iopub.execute_input": "2023-05-14T17:09:47.219906Z",
     "iopub.status.busy": "2023-05-14T17:09:47.218765Z",
     "iopub.status.idle": "2023-05-14T17:09:47.340492Z",
     "shell.execute_reply": "2023-05-14T17:09:47.339288Z"
    },
    "papermill": {
     "duration": 0.134238,
     "end_time": "2023-05-14T17:09:47.343045",
     "exception": false,
     "start_time": "2023-05-14T17:09:47.208807",
     "status": "completed"
    },
    "tags": []
   },
   "outputs": [
    {
     "name": "stdout",
     "output_type": "stream",
     "text": [
      "<class 'pandas.core.frame.DataFrame'>\n",
      "RangeIndex: 10015 entries, 0 to 10014\n",
      "Columns: 2353 entries, pixel0000 to label\n",
      "dtypes: int64(2353)\n",
      "memory usage: 179.8 MB\n"
     ]
    }
   ],
   "source": [
    "rgb.info()"
   ]
  },
  {
   "cell_type": "markdown",
   "id": "015e30ee",
   "metadata": {
    "papermill": {
     "duration": 0.008297,
     "end_time": "2023-05-14T17:09:47.360067",
     "exception": false,
     "start_time": "2023-05-14T17:09:47.351770",
     "status": "completed"
    },
    "tags": []
   },
   "source": [
    "# <font color=darkgreen> Display image"
   ]
  },
  {
   "cell_type": "code",
   "execution_count": 6,
   "id": "02a9ddbe",
   "metadata": {
    "execution": {
     "iopub.execute_input": "2023-05-14T17:09:47.379694Z",
     "iopub.status.busy": "2023-05-14T17:09:47.378597Z",
     "iopub.status.idle": "2023-05-14T17:09:47.832807Z",
     "shell.execute_reply": "2023-05-14T17:09:47.831673Z"
    },
    "papermill": {
     "duration": 0.466684,
     "end_time": "2023-05-14T17:09:47.835276",
     "exception": false,
     "start_time": "2023-05-14T17:09:47.368592",
     "status": "completed"
    },
    "tags": []
   },
   "outputs": [
    {
     "data": {
      "text/plain": [
       "<matplotlib.image.AxesImage at 0x7a34c36bbb50>"
      ]
     },
     "execution_count": 6,
     "metadata": {},
     "output_type": "execute_result"
    },
    {
     "data": {
      "image/png": "[encoded data removed]",
      "text/plain": [
       "<Figure size 640x480 with 1 Axes>"
      ]
     },
     "metadata": {},
     "output_type": "display_data"
    }
   ],
   "source": [
    "y = rgb['label']\n",
    "X = rgb.drop(['label'], axis=1)\n",
    "\n",
    "X1 = np.array(X)\n",
    "image = X1[10].reshape(28,28,3)\n",
    "plt.imshow(image)"
   ]
  },
  {
   "cell_type": "markdown",
   "id": "f8fc7949",
   "metadata": {
    "papermill": {
     "duration": 0.008844,
     "end_time": "2023-05-14T17:09:47.853232",
     "exception": false,
     "start_time": "2023-05-14T17:09:47.844388",
     "status": "completed"
    },
    "tags": []
   },
   "source": [
    "# <font color=darkgreen> Building Convolutional Neural network"
   ]
  },
  {
   "cell_type": "code",
   "execution_count": 7,
   "id": "5284d0eb",
   "metadata": {
    "execution": {
     "iopub.execute_input": "2023-05-14T17:09:47.873257Z",
     "iopub.status.busy": "2023-05-14T17:09:47.872855Z",
     "iopub.status.idle": "2023-05-14T17:09:48.099003Z",
     "shell.execute_reply": "2023-05-14T17:09:48.097752Z"
    },
    "papermill": {
     "duration": 0.239557,
     "end_time": "2023-05-14T17:09:48.101890",
     "exception": false,
     "start_time": "2023-05-14T17:09:47.862333",
     "status": "completed"
    },
    "tags": []
   },
   "outputs": [],
   "source": [
    "\n",
    "X_train, X_val_test, y_train, y_val_test = train_test_split(X, y,\n",
    "                                                  test_size=0.4,shuffle = True,\n",
    "                                                  random_state=1)\n",
    "X_val, X_test, y_val, y_test = train_test_split(X_val_test, y_val_test,\n",
    "                                                  test_size=0.5,random_state=1)"
   ]
  },
  {
   "cell_type": "code",
   "execution_count": 8,
   "id": "5fa49004",
   "metadata": {
    "execution": {
     "iopub.execute_input": "2023-05-14T17:09:48.122998Z",
     "iopub.status.busy": "2023-05-14T17:09:48.122550Z",
     "iopub.status.idle": "2023-05-14T17:09:48.197083Z",
     "shell.execute_reply": "2023-05-14T17:09:48.195916Z"
    },
    "papermill": {
     "duration": 0.088221,
     "end_time": "2023-05-14T17:09:48.200223",
     "exception": false,
     "start_time": "2023-05-14T17:09:48.112002",
     "status": "completed"
    },
    "tags": []
   },
   "outputs": [],
   "source": [
    "X_train = X_train/255\n",
    "X_val = X_val/255\n",
    "X_test = X_test/255\n",
    "num_classes = 7"
   ]
  },
  {
   "cell_type": "code",
   "execution_count": 9,
   "id": "5fc06ff3",
   "metadata": {
    "execution": {
     "iopub.execute_input": "2023-05-14T17:09:48.220407Z",
     "iopub.status.busy": "2023-05-14T17:09:48.219986Z",
     "iopub.status.idle": "2023-05-14T17:09:48.515370Z",
     "shell.execute_reply": "2023-05-14T17:09:48.514151Z"
    },
    "papermill": {
     "duration": 0.308612,
     "end_time": "2023-05-14T17:09:48.518196",
     "exception": false,
     "start_time": "2023-05-14T17:09:48.209584",
     "status": "completed"
    },
    "tags": []
   },
   "outputs": [
    {
     "data": {
      "text/plain": [
       "<matplotlib.image.AxesImage at 0x7a34c354e920>"
      ]
     },
     "execution_count": 9,
     "metadata": {},
     "output_type": "execute_result"
    },
    {
     "data": {
      "image/png": "[encoded data removed]",
      "text/plain": [
       "<Figure size 640x480 with 1 Axes>"
      ]
     },
     "metadata": {},
     "output_type": "display_data"
    }
   ],
   "source": [
    "X_train1 = np.array(X_train) #to flatten\n",
    "n_samples_train = len(y_train.index)\n",
    "images_train = X_train1.reshape(n_samples_train,28,28,3)\n",
    "plt.imshow(images_train[10])"
   ]
  },
  {
   "cell_type": "code",
   "execution_count": 10,
   "id": "c204a677",
   "metadata": {
    "execution": {
     "iopub.execute_input": "2023-05-14T17:09:48.539972Z",
     "iopub.status.busy": "2023-05-14T17:09:48.539071Z",
     "iopub.status.idle": "2023-05-14T17:09:48.810341Z",
     "shell.execute_reply": "2023-05-14T17:09:48.808904Z"
    },
    "papermill": {
     "duration": 0.285196,
     "end_time": "2023-05-14T17:09:48.813155",
     "exception": false,
     "start_time": "2023-05-14T17:09:48.527959",
     "status": "completed"
    },
    "tags": []
   },
   "outputs": [
    {
     "data": {
      "text/plain": [
       "<matplotlib.image.AxesImage at 0x7a34c352b580>"
      ]
     },
     "execution_count": 10,
     "metadata": {},
     "output_type": "execute_result"
    },
    {
     "data": {
      "image/png": "[encoded data removed]",
      "text/plain": [
       "<Figure size 640x480 with 1 Axes>"
      ]
     },
     "metadata": {},
     "output_type": "display_data"
    }
   ],
   "source": [
    "X_val1 = np.array(X_val) #to flatten\n",
    "n_samples_val = len(y_val.index)\n",
    "images_val = X_val1.reshape(n_samples_val,28,28,3)\n",
    "plt.imshow(images_val[10])"
   ]
  },
  {
   "cell_type": "code",
   "execution_count": 11,
   "id": "d164703c",
   "metadata": {
    "execution": {
     "iopub.execute_input": "2023-05-14T17:09:48.836535Z",
     "iopub.status.busy": "2023-05-14T17:09:48.835548Z",
     "iopub.status.idle": "2023-05-14T17:09:49.104282Z",
     "shell.execute_reply": "2023-05-14T17:09:49.103115Z"
    },
    "papermill": {
     "duration": 0.283436,
     "end_time": "2023-05-14T17:09:49.106975",
     "exception": false,
     "start_time": "2023-05-14T17:09:48.823539",
     "status": "completed"
    },
    "tags": []
   },
   "outputs": [
    {
     "data": {
      "text/plain": [
       "<matplotlib.image.AxesImage at 0x7a34c39948b0>"
      ]
     },
     "execution_count": 11,
     "metadata": {},
     "output_type": "execute_result"
    },
    {
     "data": {
      "image/png": "[encoded data removed]",
      "text/plain": [
       "<Figure size 640x480 with 1 Axes>"
      ]
     },
     "metadata": {},
     "output_type": "display_data"
    }
   ],
   "source": [
    "X_test1 = np.array(X_test) \n",
    "n_samples_test = len(y_test.index)\n",
    "images_test = X_test1.reshape(n_samples_test,28,28,3)\n",
    "plt.imshow(images_test[10])"
   ]
  },
  {
   "cell_type": "code",
   "execution_count": 12,
   "id": "8347a8a3",
   "metadata": {
    "execution": {
     "iopub.execute_input": "2023-05-14T17:09:49.129732Z",
     "iopub.status.busy": "2023-05-14T17:09:49.129259Z",
     "iopub.status.idle": "2023-05-14T17:09:49.715452Z",
     "shell.execute_reply": "2023-05-14T17:09:49.713964Z"
    },
    "papermill": {
     "duration": 0.614058,
     "end_time": "2023-05-14T17:09:49.731428",
     "exception": false,
     "start_time": "2023-05-14T17:09:49.117370",
     "status": "completed"
    },
    "tags": []
   },
   "outputs": [
    {
     "name": "stdout",
     "output_type": "stream",
     "text": [
      "Model: \"sequential\"\n",
      "_________________________________________________________________\n",
      " Layer (type)                Output Shape              Param #   \n",
      "=================================================================\n",
      " Convo2D_Layer_1 (Conv2D)    (None, 28, 28, 32)        896       \n",
      "                                                                 \n",
      " MaxPooling2D_Layer_1 (MaxPo  (None, 14, 14, 32)       0         \n",
      " oling2D)                                                        \n",
      "                                                                 \n",
      " Convo2D_Layer_2 (Conv2D)    (None, 14, 14, 32)        9248      \n",
      "                                                                 \n",
      " MaxPooling2D_Layer_2 (MaxPo  (None, 7, 7, 32)         0         \n",
      " oling2D)                                                        \n",
      "                                                                 \n",
      " Convo2D_Layer_3 (Conv2D)    (None, 7, 7, 15)          4335      \n",
      "                                                                 \n",
      " MaxPooling2D_Layer_3 (MaxPo  (None, 3, 3, 15)         0         \n",
      " oling2D)                                                        \n",
      "                                                                 \n",
      " DroupOut_Layer_1 (Dropout)  (None, 3, 3, 15)          0         \n",
      "                                                                 \n",
      " Convo2D_Layer_4 (Conv2D)    (None, 3, 3, 5)           680       \n",
      "                                                                 \n",
      " MaxPooling2D_Layer_4 (MaxPo  (None, 1, 1, 5)          0         \n",
      " oling2D)                                                        \n",
      "                                                                 \n",
      " DroupOut_Layer_2 (Dropout)  (None, 1, 1, 5)           0         \n",
      "                                                                 \n",
      " Flatten_Layer_1 (Flatten)   (None, 5)                 0         \n",
      "                                                                 \n",
      " Dense_Layer (Dense)         (None, 7)                 42        \n",
      "                                                                 \n",
      "=================================================================\n",
      "Total params: 15,201\n",
      "Trainable params: 15,201\n",
      "Non-trainable params: 0\n",
      "_________________________________________________________________\n"
     ]
    }
   ],
   "source": [
    "model = tf.keras.models.Sequential([\n",
    "    \n",
    "    tf.keras.layers.Conv2D(32, (3, 3),padding='same', name ='Convo2D_Layer_1', input_shape=(28, 28, 3), activation='relu'),\n",
    "    tf.keras.layers.MaxPooling2D((2, 2),name ='MaxPooling2D_Layer_1' ),\n",
    "    \n",
    "    tf.keras.layers.Conv2D(32, (3, 3),padding='same', name ='Convo2D_Layer_2', activation='relu'),\n",
    "    tf.keras.layers.MaxPooling2D((2, 2),name ='MaxPooling2D_Layer_2'),\n",
    "    \n",
    "    tf.keras.layers.Conv2D(15, (3, 3),padding='same',name ='Convo2D_Layer_3',  activation='relu'),\n",
    "    tf.keras.layers.MaxPooling2D((2, 2),name ='MaxPooling2D_Layer_3'),\n",
    "    tf.keras.layers.Dropout(0.15,name ='DroupOut_Layer_1'),\n",
    "    \n",
    "    tf.keras.layers.Conv2D(5, (3, 3),padding='same',name ='Convo2D_Layer_4',  activation='relu'),\n",
    "    tf.keras.layers.MaxPooling2D((2, 2),name ='MaxPooling2D_Layer_4'),\n",
    "    \n",
    "    tf.keras.layers.Dropout(0.2,name ='DroupOut_Layer_2'),\n",
    "    tf.keras.layers.Flatten(name ='Flatten_Layer_1'),\n",
    "    \n",
    "    tf.keras.layers.Dense(7,name ='Dense_Layer',activation='softmax')\n",
    "])\n",
    "model.summary()"
   ]
  },
  {
   "cell_type": "code",
   "execution_count": 13,
   "id": "1a0df8c7",
   "metadata": {
    "execution": {
     "iopub.execute_input": "2023-05-14T17:09:49.761711Z",
     "iopub.status.busy": "2023-05-14T17:09:49.760427Z",
     "iopub.status.idle": "2023-05-14T17:09:49.783975Z",
     "shell.execute_reply": "2023-05-14T17:09:49.782929Z"
    },
    "papermill": {
     "duration": 0.041425,
     "end_time": "2023-05-14T17:09:49.786805",
     "exception": false,
     "start_time": "2023-05-14T17:09:49.745380",
     "status": "completed"
    },
    "tags": []
   },
   "outputs": [],
   "source": [
    "# Compiling the model\n",
    "\n",
    "model.compile(loss='sparse_categorical_crossentropy', \n",
    "              optimizer=tf.keras.optimizers.Adam(learning_rate = 1e-3), \n",
    "              metrics=['accuracy'])"
   ]
  },
  {
   "cell_type": "code",
   "execution_count": 14,
   "id": "ae3561ad",
   "metadata": {
    "execution": {
     "iopub.execute_input": "2023-05-14T17:09:49.816081Z",
     "iopub.status.busy": "2023-05-14T17:09:49.815679Z",
     "iopub.status.idle": "2023-05-14T17:16:13.420552Z",
     "shell.execute_reply": "2023-05-14T17:16:13.419594Z"
    },
    "papermill": {
     "duration": 383.622925,
     "end_time": "2023-05-14T17:16:13.423452",
     "exception": false,
     "start_time": "2023-05-14T17:09:49.800527",
     "status": "completed"
    },
    "tags": []
   },
   "outputs": [
    {
     "name": "stdout",
     "output_type": "stream",
     "text": [
      "Epoch 1/70\n",
      "188/188 [==============================] - 7s 27ms/step - loss: 1.2674 - accuracy: 0.6557 - val_loss: 1.0821 - val_accuracy: 0.6640\n",
      "Epoch 2/70\n",
      "188/188 [==============================] - 4s 24ms/step - loss: 1.0663 - accuracy: 0.6687 - val_loss: 1.0064 - val_accuracy: 0.6640\n",
      "Epoch 3/70\n",
      "188/188 [==============================] - 5s 24ms/step - loss: 1.0011 - accuracy: 0.6665 - val_loss: 0.9420 - val_accuracy: 0.6640\n",
      "Epoch 4/70\n",
      "188/188 [==============================] - 5s 24ms/step - loss: 0.9576 - accuracy: 0.6665 - val_loss: 0.9248 - val_accuracy: 0.6645\n",
      "Epoch 5/70\n",
      "188/188 [==============================] - 5s 27ms/step - loss: 0.9369 - accuracy: 0.6700 - val_loss: 0.9302 - val_accuracy: 0.6640\n",
      "Epoch 6/70\n",
      "188/188 [==============================] - 5s 24ms/step - loss: 0.9213 - accuracy: 0.6747 - val_loss: 0.8929 - val_accuracy: 0.6650\n",
      "Epoch 7/70\n",
      "188/188 [==============================] - 5s 25ms/step - loss: 0.8924 - accuracy: 0.6798 - val_loss: 0.8816 - val_accuracy: 0.6820\n",
      "Epoch 8/70\n",
      "188/188 [==============================] - 5s 24ms/step - loss: 0.8969 - accuracy: 0.6791 - val_loss: 0.9002 - val_accuracy: 0.6775\n",
      "Epoch 9/70\n",
      "188/188 [==============================] - 5s 25ms/step - loss: 0.8858 - accuracy: 0.6840 - val_loss: 0.8616 - val_accuracy: 0.6800\n",
      "Epoch 10/70\n",
      "188/188 [==============================] - 5s 25ms/step - loss: 0.8722 - accuracy: 0.6850 - val_loss: 0.8477 - val_accuracy: 0.6905\n",
      "Epoch 11/70\n",
      "188/188 [==============================] - 5s 24ms/step - loss: 0.8713 - accuracy: 0.6871 - val_loss: 0.8628 - val_accuracy: 0.6825\n",
      "Epoch 12/70\n",
      "188/188 [==============================] - 5s 26ms/step - loss: 0.8624 - accuracy: 0.6916 - val_loss: 0.8574 - val_accuracy: 0.6830\n",
      "Epoch 13/70\n",
      "188/188 [==============================] - 5s 25ms/step - loss: 0.8616 - accuracy: 0.6860 - val_loss: 0.8460 - val_accuracy: 0.6850\n",
      "Epoch 14/70\n",
      "188/188 [==============================] - 5s 24ms/step - loss: 0.8534 - accuracy: 0.6908 - val_loss: 0.8551 - val_accuracy: 0.6725\n",
      "Epoch 15/70\n",
      "188/188 [==============================] - 4s 24ms/step - loss: 0.8440 - accuracy: 0.6860 - val_loss: 0.8821 - val_accuracy: 0.6845\n",
      "Epoch 16/70\n",
      "188/188 [==============================] - 4s 24ms/step - loss: 0.8357 - accuracy: 0.6951 - val_loss: 0.8325 - val_accuracy: 0.6870\n",
      "Epoch 17/70\n",
      "188/188 [==============================] - 4s 24ms/step - loss: 0.8416 - accuracy: 0.6888 - val_loss: 0.8737 - val_accuracy: 0.6750\n",
      "Epoch 18/70\n",
      "188/188 [==============================] - 5s 24ms/step - loss: 0.8343 - accuracy: 0.6890 - val_loss: 0.8469 - val_accuracy: 0.6870\n",
      "Epoch 19/70\n",
      "188/188 [==============================] - 5s 26ms/step - loss: 0.8374 - accuracy: 0.6920 - val_loss: 0.8406 - val_accuracy: 0.6885\n",
      "Epoch 20/70\n",
      "188/188 [==============================] - 5s 24ms/step - loss: 0.8288 - accuracy: 0.6900 - val_loss: 0.8381 - val_accuracy: 0.6870\n",
      "Epoch 21/70\n",
      "188/188 [==============================] - 5s 24ms/step - loss: 0.8252 - accuracy: 0.6928 - val_loss: 0.8456 - val_accuracy: 0.6820\n",
      "Epoch 22/70\n",
      "188/188 [==============================] - 5s 24ms/step - loss: 0.8202 - accuracy: 0.6961 - val_loss: 0.8805 - val_accuracy: 0.6690\n",
      "Epoch 23/70\n",
      "188/188 [==============================] - 5s 24ms/step - loss: 0.8164 - accuracy: 0.6961 - val_loss: 0.8356 - val_accuracy: 0.6945\n",
      "Epoch 24/70\n",
      "188/188 [==============================] - 5s 25ms/step - loss: 0.8213 - accuracy: 0.6970 - val_loss: 0.8879 - val_accuracy: 0.6955\n",
      "Epoch 25/70\n",
      "188/188 [==============================] - 4s 24ms/step - loss: 0.8119 - accuracy: 0.6931 - val_loss: 0.8566 - val_accuracy: 0.6700\n",
      "Epoch 26/70\n",
      "188/188 [==============================] - 5s 27ms/step - loss: 0.8087 - accuracy: 0.6980 - val_loss: 0.8492 - val_accuracy: 0.6990\n",
      "Epoch 27/70\n",
      "188/188 [==============================] - 5s 24ms/step - loss: 0.8067 - accuracy: 0.6966 - val_loss: 0.8164 - val_accuracy: 0.6910\n",
      "Epoch 28/70\n",
      "188/188 [==============================] - 4s 24ms/step - loss: 0.7961 - accuracy: 0.7001 - val_loss: 0.8233 - val_accuracy: 0.6905\n",
      "Epoch 29/70\n",
      "188/188 [==============================] - 5s 24ms/step - loss: 0.8056 - accuracy: 0.7006 - val_loss: 0.8164 - val_accuracy: 0.6965\n",
      "Epoch 30/70\n",
      "188/188 [==============================] - 5s 25ms/step - loss: 0.7967 - accuracy: 0.6978 - val_loss: 0.8094 - val_accuracy: 0.6965\n",
      "Epoch 31/70\n",
      "188/188 [==============================] - 5s 25ms/step - loss: 0.7883 - accuracy: 0.6985 - val_loss: 0.8080 - val_accuracy: 0.6970\n",
      "Epoch 32/70\n",
      "188/188 [==============================] - 5s 24ms/step - loss: 0.7861 - accuracy: 0.7046 - val_loss: 0.8589 - val_accuracy: 0.6875\n",
      "Epoch 33/70\n",
      "188/188 [==============================] - 5s 27ms/step - loss: 0.7866 - accuracy: 0.7021 - val_loss: 0.8098 - val_accuracy: 0.6930\n",
      "Epoch 34/70\n",
      "188/188 [==============================] - 5s 24ms/step - loss: 0.7724 - accuracy: 0.7039 - val_loss: 0.8409 - val_accuracy: 0.6925\n",
      "Epoch 35/70\n",
      "188/188 [==============================] - 5s 24ms/step - loss: 0.7680 - accuracy: 0.7066 - val_loss: 0.8695 - val_accuracy: 0.6840\n",
      "Epoch 36/70\n",
      "188/188 [==============================] - 5s 25ms/step - loss: 0.7858 - accuracy: 0.7021 - val_loss: 0.8158 - val_accuracy: 0.6980\n",
      "Epoch 37/70\n",
      "188/188 [==============================] - 5s 26ms/step - loss: 0.7752 - accuracy: 0.7019 - val_loss: 0.8011 - val_accuracy: 0.6945\n",
      "Epoch 38/70\n",
      "188/188 [==============================] - 5s 25ms/step - loss: 0.7783 - accuracy: 0.7051 - val_loss: 0.8233 - val_accuracy: 0.6985\n",
      "Epoch 39/70\n",
      "188/188 [==============================] - 5s 24ms/step - loss: 0.7615 - accuracy: 0.7054 - val_loss: 0.7932 - val_accuracy: 0.7019\n",
      "Epoch 40/70\n",
      "188/188 [==============================] - 5s 26ms/step - loss: 0.7570 - accuracy: 0.7071 - val_loss: 0.8297 - val_accuracy: 0.7034\n",
      "Epoch 41/70\n",
      "188/188 [==============================] - 4s 24ms/step - loss: 0.7559 - accuracy: 0.7103 - val_loss: 0.8320 - val_accuracy: 0.6840\n",
      "Epoch 42/70\n",
      "188/188 [==============================] - 4s 24ms/step - loss: 0.7567 - accuracy: 0.7084 - val_loss: 0.8134 - val_accuracy: 0.6940\n",
      "Epoch 43/70\n",
      "188/188 [==============================] - 5s 24ms/step - loss: 0.7520 - accuracy: 0.7061 - val_loss: 0.7975 - val_accuracy: 0.6950\n",
      "Epoch 44/70\n",
      "188/188 [==============================] - 5s 24ms/step - loss: 0.7484 - accuracy: 0.7148 - val_loss: 0.7991 - val_accuracy: 0.6990\n",
      "Epoch 45/70\n",
      "188/188 [==============================] - 5s 24ms/step - loss: 0.7519 - accuracy: 0.7101 - val_loss: 0.7899 - val_accuracy: 0.7000\n",
      "Epoch 46/70\n",
      "188/188 [==============================] - 5s 24ms/step - loss: 0.7349 - accuracy: 0.7189 - val_loss: 0.7855 - val_accuracy: 0.7009\n",
      "Epoch 47/70\n",
      "188/188 [==============================] - 5s 26ms/step - loss: 0.7385 - accuracy: 0.7094 - val_loss: 0.8347 - val_accuracy: 0.6970\n",
      "Epoch 48/70\n",
      "188/188 [==============================] - 5s 24ms/step - loss: 0.7296 - accuracy: 0.7138 - val_loss: 0.8171 - val_accuracy: 0.6985\n",
      "Epoch 49/70\n",
      "188/188 [==============================] - 4s 24ms/step - loss: 0.7339 - accuracy: 0.7189 - val_loss: 0.7973 - val_accuracy: 0.7000\n",
      "Epoch 50/70\n",
      "188/188 [==============================] - 4s 24ms/step - loss: 0.7353 - accuracy: 0.7124 - val_loss: 0.7774 - val_accuracy: 0.7064\n",
      "Epoch 51/70\n",
      "188/188 [==============================] - 5s 24ms/step - loss: 0.7174 - accuracy: 0.7179 - val_loss: 0.8053 - val_accuracy: 0.6980\n",
      "Epoch 52/70\n",
      "188/188 [==============================] - 5s 24ms/step - loss: 0.7285 - accuracy: 0.7183 - val_loss: 0.7980 - val_accuracy: 0.7044\n",
      "Epoch 53/70\n",
      "188/188 [==============================] - 5s 25ms/step - loss: 0.7237 - accuracy: 0.7176 - val_loss: 0.7963 - val_accuracy: 0.7064\n",
      "Epoch 54/70\n",
      "188/188 [==============================] - 5s 26ms/step - loss: 0.7122 - accuracy: 0.7156 - val_loss: 0.8021 - val_accuracy: 0.6925\n",
      "Epoch 55/70\n",
      "188/188 [==============================] - 4s 24ms/step - loss: 0.7111 - accuracy: 0.7204 - val_loss: 0.7770 - val_accuracy: 0.7019\n",
      "Epoch 56/70\n",
      "188/188 [==============================] - 5s 24ms/step - loss: 0.7036 - accuracy: 0.7189 - val_loss: 0.7642 - val_accuracy: 0.7059\n",
      "Epoch 57/70\n",
      "188/188 [==============================] - 5s 24ms/step - loss: 0.7111 - accuracy: 0.7209 - val_loss: 0.7774 - val_accuracy: 0.7059\n",
      "Epoch 58/70\n",
      "188/188 [==============================] - 4s 24ms/step - loss: 0.6940 - accuracy: 0.7201 - val_loss: 0.7621 - val_accuracy: 0.7099\n",
      "Epoch 59/70\n",
      "188/188 [==============================] - 5s 25ms/step - loss: 0.7088 - accuracy: 0.7193 - val_loss: 0.7737 - val_accuracy: 0.7084\n",
      "Epoch 60/70\n",
      "188/188 [==============================] - 5s 24ms/step - loss: 0.6883 - accuracy: 0.7266 - val_loss: 0.7742 - val_accuracy: 0.7029\n",
      "Epoch 61/70\n",
      "188/188 [==============================] - 5s 26ms/step - loss: 0.6932 - accuracy: 0.7249 - val_loss: 0.8041 - val_accuracy: 0.7074\n",
      "Epoch 62/70\n",
      "188/188 [==============================] - 5s 24ms/step - loss: 0.6930 - accuracy: 0.7287 - val_loss: 0.7652 - val_accuracy: 0.7099\n",
      "Epoch 63/70\n",
      "188/188 [==============================] - 5s 24ms/step - loss: 0.6918 - accuracy: 0.7267 - val_loss: 0.7903 - val_accuracy: 0.7054\n",
      "Epoch 64/70\n",
      "188/188 [==============================] - 5s 24ms/step - loss: 0.6972 - accuracy: 0.7222 - val_loss: 0.8347 - val_accuracy: 0.7084\n",
      "Epoch 65/70\n",
      "188/188 [==============================] - 5s 24ms/step - loss: 0.6976 - accuracy: 0.7236 - val_loss: 0.8036 - val_accuracy: 0.7044\n",
      "Epoch 66/70\n",
      "188/188 [==============================] - 5s 25ms/step - loss: 0.6834 - accuracy: 0.7302 - val_loss: 0.7652 - val_accuracy: 0.7109\n",
      "Epoch 67/70\n",
      "188/188 [==============================] - 5s 25ms/step - loss: 0.6752 - accuracy: 0.7317 - val_loss: 0.7900 - val_accuracy: 0.7104\n",
      "Epoch 68/70\n",
      "188/188 [==============================] - 5s 25ms/step - loss: 0.6663 - accuracy: 0.7336 - val_loss: 0.7710 - val_accuracy: 0.7084\n",
      "Epoch 69/70\n",
      "188/188 [==============================] - 5s 24ms/step - loss: 0.6785 - accuracy: 0.7314 - val_loss: 0.7842 - val_accuracy: 0.7154\n",
      "Epoch 70/70\n",
      "188/188 [==============================] - 4s 24ms/step - loss: 0.6664 - accuracy: 0.7372 - val_loss: 0.8108 - val_accuracy: 0.7109\n"
     ]
    }
   ],
   "source": [
    "#training\n",
    "train = model.fit(images_train, y_train, validation_data=(images_val, y_val), epochs=70, verbose=1)"
   ]
  },
  {
   "cell_type": "code",
   "execution_count": 15,
   "id": "e1435574",
   "metadata": {
    "execution": {
     "iopub.execute_input": "2023-05-14T17:16:14.290590Z",
     "iopub.status.busy": "2023-05-14T17:16:14.289539Z",
     "iopub.status.idle": "2023-05-14T17:16:14.859809Z",
     "shell.execute_reply": "2023-05-14T17:16:14.858493Z"
    },
    "papermill": {
     "duration": 1.005797,
     "end_time": "2023-05-14T17:16:14.862196",
     "exception": false,
     "start_time": "2023-05-14T17:16:13.856399",
     "status": "completed"
    },
    "tags": []
   },
   "outputs": [
    {
     "name": "stdout",
     "output_type": "stream",
     "text": [
      "Score : 71.09%\n"
     ]
    }
   ],
   "source": [
    "# Test\n",
    "scores = model.evaluate(images_val, y_val, verbose=0)\n",
    "print(\"Score : %.2f%%\" % (scores[1]*100))"
   ]
  },
  {
   "cell_type": "code",
   "execution_count": 16,
   "id": "5a149fef",
   "metadata": {
    "execution": {
     "iopub.execute_input": "2023-05-14T17:16:15.736566Z",
     "iopub.status.busy": "2023-05-14T17:16:15.736166Z",
     "iopub.status.idle": "2023-05-14T17:16:16.239271Z",
     "shell.execute_reply": "2023-05-14T17:16:16.238059Z"
    },
    "papermill": {
     "duration": 0.944022,
     "end_time": "2023-05-14T17:16:16.241960",
     "exception": false,
     "start_time": "2023-05-14T17:16:15.297938",
     "status": "completed"
    },
    "tags": []
   },
   "outputs": [
    {
     "data": {
      "image/png": "[encoded data removed]",
      "text/plain": [
       "<Figure size 1500x500 with 2 Axes>"
      ]
     },
     "metadata": {},
     "output_type": "display_data"
    }
   ],
   "source": [
    "plt.figure(figsize=(15,5))\n",
    "plt.subplot(1, 2, 1)\n",
    "plt.plot(train.history['accuracy'],'r', label='accuracy')\n",
    "plt.plot(train.history['val_accuracy'],'b', label = 'val_accuracy')\n",
    "plt.xlabel('Epoch')\n",
    "plt.ylabel('Accuracy')\n",
    "plt.legend()\n",
    "# plt.show()\n",
    "plt.subplot(1, 2, 2)\n",
    "plt.plot(train.history['loss'],'r', label='loss')\n",
    "plt.plot(train.history['val_loss'],'b', label = 'val_loss')\n",
    "plt.xlabel('Epoch')\n",
    "plt.ylabel('Loss')\n",
    "plt.legend()\n",
    "plt.show()"
   ]
  },
  {
   "cell_type": "markdown",
   "id": "beaaed8f",
   "metadata": {
    "papermill": {
     "duration": 0.501419,
     "end_time": "2023-05-14T17:16:17.184425",
     "exception": false,
     "start_time": "2023-05-14T17:16:16.683006",
     "status": "completed"
    },
    "tags": []
   },
   "source": [
    "# <font color=darkgreen> Convolutional Neural network using Batch Normalization"
   ]
  },
  {
   "cell_type": "code",
   "execution_count": 17,
   "id": "956a18f5",
   "metadata": {
    "execution": {
     "iopub.execute_input": "2023-05-14T17:16:18.051495Z",
     "iopub.status.busy": "2023-05-14T17:16:18.050687Z",
     "iopub.status.idle": "2023-05-14T17:16:18.217876Z",
     "shell.execute_reply": "2023-05-14T17:16:18.216315Z"
    },
    "papermill": {
     "duration": 0.615241,
     "end_time": "2023-05-14T17:16:18.232146",
     "exception": false,
     "start_time": "2023-05-14T17:16:17.616905",
     "status": "completed"
    },
    "tags": []
   },
   "outputs": [
    {
     "name": "stdout",
     "output_type": "stream",
     "text": [
      "Model: \"sequential_1\"\n",
      "_________________________________________________________________\n",
      " Layer (type)                Output Shape              Param #   \n",
      "=================================================================\n",
      " Convo2D_Layer_1 (Conv2D)    (None, 28, 28, 32)        896       \n",
      "                                                                 \n",
      " MaxPooling2D_Layer_1 (MaxPo  (None, 14, 14, 32)       0         \n",
      " oling2D)                                                        \n",
      "                                                                 \n",
      " Convo2D_Layer_2 (Conv2D)    (None, 14, 14, 32)        9248      \n",
      "                                                                 \n",
      " MaxPooling2D_Layer_2 (MaxPo  (None, 7, 7, 32)         0         \n",
      " oling2D)                                                        \n",
      "                                                                 \n",
      " Convo2D_Layer_3 (Conv2D)    (None, 7, 7, 15)          4335      \n",
      "                                                                 \n",
      " MaxPooling2D_Layer_3 (MaxPo  (None, 3, 3, 15)         0         \n",
      " oling2D)                                                        \n",
      "                                                                 \n",
      " DroupOut_Layer_1 (Dropout)  (None, 3, 3, 15)          0         \n",
      "                                                                 \n",
      " Convo2D_Layer_4 (Conv2D)    (None, 3, 3, 5)           680       \n",
      "                                                                 \n",
      " MaxPooling2D_Layer_4 (MaxPo  (None, 1, 1, 5)          0         \n",
      " oling2D)                                                        \n",
      "                                                                 \n",
      " DroupOut_Layer_2 (Dropout)  (None, 1, 1, 5)           0         \n",
      "                                                                 \n",
      " Flatten_Layer_1 (Flatten)   (None, 5)                 0         \n",
      "                                                                 \n",
      " Batch_Normalization_Layer_1  (None, 5)                20        \n",
      "  (BatchNormalization)                                           \n",
      "                                                                 \n",
      " Dense_Layer (Dense)         (None, 7)                 42        \n",
      "                                                                 \n",
      "=================================================================\n",
      "Total params: 15,221\n",
      "Trainable params: 15,211\n",
      "Non-trainable params: 10\n",
      "_________________________________________________________________\n"
     ]
    }
   ],
   "source": [
    "model1 = tf.keras.models.Sequential([\n",
    "    \n",
    "    tf.keras.layers.Conv2D(32, (3, 3),padding='same', name ='Convo2D_Layer_1', input_shape=(28, 28, 3), activation='relu'),\n",
    "    tf.keras.layers.MaxPooling2D((2, 2),name ='MaxPooling2D_Layer_1' ),\n",
    "    \n",
    "    tf.keras.layers.Conv2D(32, (3, 3),padding='same', name ='Convo2D_Layer_2', activation='relu'),\n",
    "    tf.keras.layers.MaxPooling2D((2, 2),name ='MaxPooling2D_Layer_2'),\n",
    "    \n",
    "    tf.keras.layers.Conv2D(15, (3, 3),padding='same',name ='Convo2D_Layer_3',  activation='relu'),\n",
    "    tf.keras.layers.MaxPooling2D((2, 2),name ='MaxPooling2D_Layer_3'),\n",
    "    tf.keras.layers.Dropout(0.15,name ='DroupOut_Layer_1'),\n",
    "    \n",
    "    tf.keras.layers.Conv2D(5, (3, 3),padding='same',name ='Convo2D_Layer_4',  activation='relu'),\n",
    "    tf.keras.layers.MaxPooling2D((2, 2),name ='MaxPooling2D_Layer_4'),\n",
    "    tf.keras.layers.Dropout(0.2,name ='DroupOut_Layer_2'),\n",
    "    \n",
    "    tf.keras.layers.Flatten(name ='Flatten_Layer_1'),\n",
    "    tf.keras.layers.BatchNormalization(name ='Batch_Normalization_Layer_1'),\n",
    "    \n",
    "    tf.keras.layers.Dense(7,name ='Dense_Layer',activation='softmax')\n",
    "])\n",
    "model1.summary()"
   ]
  },
  {
   "cell_type": "code",
   "execution_count": 18,
   "id": "63bb1a69",
   "metadata": {
    "execution": {
     "iopub.execute_input": "2023-05-14T17:16:19.117365Z",
     "iopub.status.busy": "2023-05-14T17:16:19.116909Z",
     "iopub.status.idle": "2023-05-14T17:23:19.704886Z",
     "shell.execute_reply": "2023-05-14T17:23:19.703722Z"
    },
    "papermill": {
     "duration": 421.035039,
     "end_time": "2023-05-14T17:23:19.708112",
     "exception": false,
     "start_time": "2023-05-14T17:16:18.673073",
     "status": "completed"
    },
    "tags": []
   },
   "outputs": [
    {
     "name": "stdout",
     "output_type": "stream",
     "text": [
      "Epoch 1/70\n",
      "376/376 [==============================] - 8s 18ms/step - loss: 1.5885 - accuracy: 0.4903 - val_loss: 1.2992 - val_accuracy: 0.6640\n",
      "Epoch 2/70\n",
      "376/376 [==============================] - 6s 15ms/step - loss: 1.1074 - accuracy: 0.6678 - val_loss: 1.0418 - val_accuracy: 0.6640\n",
      "Epoch 3/70\n",
      "376/376 [==============================] - 6s 16ms/step - loss: 1.0431 - accuracy: 0.6698 - val_loss: 1.0146 - val_accuracy: 0.6640\n",
      "Epoch 4/70\n",
      "376/376 [==============================] - 6s 15ms/step - loss: 1.0213 - accuracy: 0.6708 - val_loss: 1.0255 - val_accuracy: 0.6645\n",
      "Epoch 5/70\n",
      "376/376 [==============================] - 6s 16ms/step - loss: 1.0033 - accuracy: 0.6743 - val_loss: 1.0223 - val_accuracy: 0.6655\n",
      "Epoch 6/70\n",
      "376/376 [==============================] - 6s 15ms/step - loss: 1.0016 - accuracy: 0.6757 - val_loss: 0.9832 - val_accuracy: 0.6715\n",
      "Epoch 7/70\n",
      "376/376 [==============================] - 6s 16ms/step - loss: 0.9869 - accuracy: 0.6793 - val_loss: 0.9897 - val_accuracy: 0.6750\n",
      "Epoch 8/70\n",
      "376/376 [==============================] - 6s 16ms/step - loss: 0.9725 - accuracy: 0.6880 - val_loss: 0.9909 - val_accuracy: 0.6685\n",
      "Epoch 9/70\n",
      "376/376 [==============================] - 6s 17ms/step - loss: 0.9797 - accuracy: 0.6818 - val_loss: 0.9580 - val_accuracy: 0.6850\n",
      "Epoch 10/70\n",
      "376/376 [==============================] - 6s 16ms/step - loss: 0.9746 - accuracy: 0.6851 - val_loss: 0.9589 - val_accuracy: 0.6805\n",
      "Epoch 11/70\n",
      "376/376 [==============================] - 6s 15ms/step - loss: 0.9865 - accuracy: 0.6780 - val_loss: 0.9610 - val_accuracy: 0.6800\n",
      "Epoch 12/70\n",
      "376/376 [==============================] - 6s 16ms/step - loss: 0.9628 - accuracy: 0.6843 - val_loss: 0.9596 - val_accuracy: 0.6740\n",
      "Epoch 13/70\n",
      "376/376 [==============================] - 6s 16ms/step - loss: 0.9529 - accuracy: 0.6886 - val_loss: 0.9458 - val_accuracy: 0.6780\n",
      "Epoch 14/70\n",
      "376/376 [==============================] - 6s 16ms/step - loss: 0.9460 - accuracy: 0.6920 - val_loss: 0.9663 - val_accuracy: 0.6625\n",
      "Epoch 15/70\n",
      "376/376 [==============================] - 6s 15ms/step - loss: 0.9517 - accuracy: 0.6876 - val_loss: 1.1271 - val_accuracy: 0.5826\n",
      "Epoch 16/70\n",
      "376/376 [==============================] - 7s 17ms/step - loss: 0.9523 - accuracy: 0.6866 - val_loss: 0.9983 - val_accuracy: 0.6665\n",
      "Epoch 17/70\n",
      "376/376 [==============================] - 6s 16ms/step - loss: 0.9422 - accuracy: 0.6845 - val_loss: 0.9397 - val_accuracy: 0.6770\n",
      "Epoch 18/70\n",
      "376/376 [==============================] - 6s 16ms/step - loss: 0.9494 - accuracy: 0.6853 - val_loss: 0.9239 - val_accuracy: 0.6775\n",
      "Epoch 19/70\n",
      "376/376 [==============================] - 7s 18ms/step - loss: 0.9454 - accuracy: 0.6876 - val_loss: 1.0271 - val_accuracy: 0.6640\n",
      "Epoch 20/70\n",
      "376/376 [==============================] - 6s 15ms/step - loss: 0.9441 - accuracy: 0.6851 - val_loss: 0.9537 - val_accuracy: 0.6690\n",
      "Epoch 21/70\n",
      "376/376 [==============================] - 6s 16ms/step - loss: 0.9454 - accuracy: 0.6860 - val_loss: 0.9179 - val_accuracy: 0.6740\n",
      "Epoch 22/70\n",
      "376/376 [==============================] - 6s 15ms/step - loss: 0.9301 - accuracy: 0.6861 - val_loss: 0.9471 - val_accuracy: 0.6675\n",
      "Epoch 23/70\n",
      "376/376 [==============================] - 6s 15ms/step - loss: 0.9276 - accuracy: 0.6848 - val_loss: 1.0246 - val_accuracy: 0.6645\n",
      "Epoch 24/70\n",
      "376/376 [==============================] - 6s 16ms/step - loss: 0.9162 - accuracy: 0.6843 - val_loss: 0.9372 - val_accuracy: 0.6735\n",
      "Epoch 25/70\n",
      "376/376 [==============================] - 6s 15ms/step - loss: 0.9177 - accuracy: 0.6886 - val_loss: 0.9194 - val_accuracy: 0.6675\n",
      "Epoch 26/70\n",
      "376/376 [==============================] - 6s 16ms/step - loss: 0.9217 - accuracy: 0.6846 - val_loss: 0.9026 - val_accuracy: 0.6730\n",
      "Epoch 27/70\n",
      "376/376 [==============================] - 6s 16ms/step - loss: 0.9060 - accuracy: 0.6885 - val_loss: 0.9313 - val_accuracy: 0.6660\n",
      "Epoch 28/70\n",
      "376/376 [==============================] - 6s 15ms/step - loss: 0.8958 - accuracy: 0.6905 - val_loss: 0.9689 - val_accuracy: 0.6500\n",
      "Epoch 29/70\n",
      "376/376 [==============================] - 6s 16ms/step - loss: 0.9156 - accuracy: 0.6840 - val_loss: 0.8821 - val_accuracy: 0.6830\n",
      "Epoch 30/70\n",
      "376/376 [==============================] - 6s 16ms/step - loss: 0.8964 - accuracy: 0.6868 - val_loss: 0.9466 - val_accuracy: 0.6650\n",
      "Epoch 31/70\n",
      "376/376 [==============================] - 6s 16ms/step - loss: 0.8938 - accuracy: 0.6888 - val_loss: 0.9730 - val_accuracy: 0.6515\n",
      "Epoch 32/70\n",
      "376/376 [==============================] - 6s 15ms/step - loss: 0.8958 - accuracy: 0.6873 - val_loss: 0.8757 - val_accuracy: 0.6815\n",
      "Epoch 33/70\n",
      "376/376 [==============================] - 6s 17ms/step - loss: 0.8912 - accuracy: 0.6863 - val_loss: 0.9767 - val_accuracy: 0.6655\n",
      "Epoch 34/70\n",
      "376/376 [==============================] - 6s 15ms/step - loss: 0.8891 - accuracy: 0.6885 - val_loss: 0.8874 - val_accuracy: 0.6675\n",
      "Epoch 35/70\n",
      "376/376 [==============================] - 6s 16ms/step - loss: 0.8855 - accuracy: 0.6885 - val_loss: 0.8961 - val_accuracy: 0.6795\n",
      "Epoch 36/70\n",
      "376/376 [==============================] - 6s 16ms/step - loss: 0.8781 - accuracy: 0.6881 - val_loss: 0.8863 - val_accuracy: 0.6795\n",
      "Epoch 37/70\n",
      "376/376 [==============================] - 6s 16ms/step - loss: 0.8702 - accuracy: 0.6935 - val_loss: 0.8640 - val_accuracy: 0.6750\n",
      "Epoch 38/70\n",
      "376/376 [==============================] - 6s 16ms/step - loss: 0.8631 - accuracy: 0.6891 - val_loss: 0.8813 - val_accuracy: 0.6780\n",
      "Epoch 39/70\n",
      "376/376 [==============================] - 6s 16ms/step - loss: 0.8714 - accuracy: 0.6935 - val_loss: 0.8681 - val_accuracy: 0.6715\n",
      "Epoch 40/70\n",
      "376/376 [==============================] - 6s 16ms/step - loss: 0.8545 - accuracy: 0.6910 - val_loss: 0.9171 - val_accuracy: 0.6780\n",
      "Epoch 41/70\n",
      "376/376 [==============================] - 6s 15ms/step - loss: 0.8506 - accuracy: 0.6945 - val_loss: 0.8723 - val_accuracy: 0.6865\n",
      "Epoch 42/70\n",
      "376/376 [==============================] - 7s 18ms/step - loss: 0.8462 - accuracy: 0.6973 - val_loss: 0.8350 - val_accuracy: 0.6795\n",
      "Epoch 43/70\n",
      "376/376 [==============================] - 6s 17ms/step - loss: 0.8479 - accuracy: 0.6916 - val_loss: 0.8525 - val_accuracy: 0.6890\n",
      "Epoch 44/70\n",
      "376/376 [==============================] - 6s 15ms/step - loss: 0.8426 - accuracy: 0.6993 - val_loss: 0.8770 - val_accuracy: 0.6840\n",
      "Epoch 45/70\n",
      "376/376 [==============================] - 7s 17ms/step - loss: 0.8412 - accuracy: 0.6958 - val_loss: 0.8303 - val_accuracy: 0.6930\n",
      "Epoch 46/70\n",
      "376/376 [==============================] - 7s 17ms/step - loss: 0.8394 - accuracy: 0.6981 - val_loss: 0.8271 - val_accuracy: 0.6940\n",
      "Epoch 47/70\n",
      "376/376 [==============================] - 6s 16ms/step - loss: 0.8482 - accuracy: 0.6893 - val_loss: 0.9051 - val_accuracy: 0.6815\n",
      "Epoch 48/70\n",
      "376/376 [==============================] - 6s 15ms/step - loss: 0.8413 - accuracy: 0.6906 - val_loss: 0.8274 - val_accuracy: 0.6805\n",
      "Epoch 49/70\n",
      "376/376 [==============================] - 6s 15ms/step - loss: 0.8253 - accuracy: 0.6973 - val_loss: 0.8196 - val_accuracy: 0.6875\n",
      "Epoch 50/70\n",
      "376/376 [==============================] - 6s 15ms/step - loss: 0.8232 - accuracy: 0.6938 - val_loss: 0.8190 - val_accuracy: 0.6805\n",
      "Epoch 51/70\n",
      "376/376 [==============================] - 6s 16ms/step - loss: 0.8208 - accuracy: 0.6956 - val_loss: 0.8214 - val_accuracy: 0.6895\n",
      "Epoch 52/70\n",
      "376/376 [==============================] - 6s 16ms/step - loss: 0.8217 - accuracy: 0.6943 - val_loss: 0.8221 - val_accuracy: 0.6830\n",
      "Epoch 53/70\n",
      "376/376 [==============================] - 6s 15ms/step - loss: 0.8083 - accuracy: 0.6966 - val_loss: 0.7903 - val_accuracy: 0.6930\n",
      "Epoch 54/70\n",
      "376/376 [==============================] - 6s 16ms/step - loss: 0.8161 - accuracy: 0.6961 - val_loss: 0.8169 - val_accuracy: 0.6855\n",
      "Epoch 55/70\n",
      "376/376 [==============================] - 6s 16ms/step - loss: 0.8078 - accuracy: 0.7009 - val_loss: 0.8026 - val_accuracy: 0.7014\n",
      "Epoch 56/70\n",
      "376/376 [==============================] - 6s 16ms/step - loss: 0.8082 - accuracy: 0.6941 - val_loss: 0.7906 - val_accuracy: 0.7019\n",
      "Epoch 57/70\n",
      "376/376 [==============================] - 6s 16ms/step - loss: 0.8051 - accuracy: 0.6981 - val_loss: 0.8063 - val_accuracy: 0.6975\n",
      "Epoch 58/70\n",
      "376/376 [==============================] - 6s 16ms/step - loss: 0.8063 - accuracy: 0.7051 - val_loss: 0.8477 - val_accuracy: 0.6880\n",
      "Epoch 59/70\n",
      "376/376 [==============================] - 6s 16ms/step - loss: 0.8052 - accuracy: 0.6958 - val_loss: 0.8081 - val_accuracy: 0.6995\n",
      "Epoch 60/70\n",
      "376/376 [==============================] - 6s 15ms/step - loss: 0.8055 - accuracy: 0.6958 - val_loss: 0.8618 - val_accuracy: 0.6905\n",
      "Epoch 61/70\n",
      "376/376 [==============================] - 6s 15ms/step - loss: 0.7944 - accuracy: 0.7013 - val_loss: 0.7936 - val_accuracy: 0.7064\n",
      "Epoch 62/70\n",
      "376/376 [==============================] - 6s 16ms/step - loss: 0.7946 - accuracy: 0.7038 - val_loss: 0.8271 - val_accuracy: 0.7004\n",
      "Epoch 63/70\n",
      "376/376 [==============================] - 6s 16ms/step - loss: 0.7827 - accuracy: 0.7081 - val_loss: 0.8203 - val_accuracy: 0.7039\n",
      "Epoch 64/70\n",
      "376/376 [==============================] - 6s 15ms/step - loss: 0.7942 - accuracy: 0.7028 - val_loss: 0.8076 - val_accuracy: 0.6990\n",
      "Epoch 65/70\n",
      "376/376 [==============================] - 6s 15ms/step - loss: 0.7727 - accuracy: 0.7054 - val_loss: 0.7830 - val_accuracy: 0.7049\n",
      "Epoch 66/70\n",
      "376/376 [==============================] - 6s 15ms/step - loss: 0.7819 - accuracy: 0.7034 - val_loss: 0.7769 - val_accuracy: 0.7224\n",
      "Epoch 67/70\n",
      "376/376 [==============================] - 6s 16ms/step - loss: 0.7750 - accuracy: 0.7113 - val_loss: 0.7937 - val_accuracy: 0.6975\n",
      "Epoch 68/70\n",
      "376/376 [==============================] - 6s 16ms/step - loss: 0.7660 - accuracy: 0.7103 - val_loss: 0.8156 - val_accuracy: 0.7019\n",
      "Epoch 69/70\n",
      "376/376 [==============================] - 6s 16ms/step - loss: 0.7420 - accuracy: 0.7149 - val_loss: 0.8531 - val_accuracy: 0.6955\n",
      "Epoch 70/70\n",
      "376/376 [==============================] - 6s 15ms/step - loss: 0.7636 - accuracy: 0.7086 - val_loss: 0.7953 - val_accuracy: 0.7134\n"
     ]
    }
   ],
   "source": [
    "# Compiling the model\n",
    "\n",
    "model1.compile(loss='sparse_categorical_crossentropy', \n",
    "              optimizer=tf.keras.optimizers.Adam(learning_rate = 1e-3), \n",
    "              metrics=['accuracy'])\n",
    "#training\n",
    "train = model1.fit(images_train, y_train, validation_data=(images_val, y_val), epochs=70,batch_size=16)"
   ]
  },
  {
   "cell_type": "code",
   "execution_count": 19,
   "id": "537a09dd",
   "metadata": {
    "execution": {
     "iopub.execute_input": "2023-05-14T17:23:21.917750Z",
     "iopub.status.busy": "2023-05-14T17:23:21.916544Z",
     "iopub.status.idle": "2023-05-14T17:23:22.503352Z",
     "shell.execute_reply": "2023-05-14T17:23:22.501578Z"
    },
    "papermill": {
     "duration": 1.739532,
     "end_time": "2023-05-14T17:23:22.506116",
     "exception": false,
     "start_time": "2023-05-14T17:23:20.766584",
     "status": "completed"
    },
    "tags": []
   },
   "outputs": [
    {
     "name": "stdout",
     "output_type": "stream",
     "text": [
      "Score : 71.34%\n"
     ]
    }
   ],
   "source": [
    "# Test\n",
    "scores = model1.evaluate(images_val, y_val, verbose=0)\n",
    "print(\"Score : %.2f%%\" % (scores[1]*100))"
   ]
  },
  {
   "cell_type": "code",
   "execution_count": 20,
   "id": "876d010a",
   "metadata": {
    "execution": {
     "iopub.execute_input": "2023-05-14T17:23:24.683413Z",
     "iopub.status.busy": "2023-05-14T17:23:24.683013Z",
     "iopub.status.idle": "2023-05-14T17:23:25.129480Z",
     "shell.execute_reply": "2023-05-14T17:23:25.128459Z"
    },
    "papermill": {
     "duration": 1.578421,
     "end_time": "2023-05-14T17:23:25.132129",
     "exception": false,
     "start_time": "2023-05-14T17:23:23.553708",
     "status": "completed"
    },
    "tags": []
   },
   "outputs": [
    {
     "data": {
      "image/png": "[encoded data removed]",
      "text/plain": [
       "<Figure size 1500x500 with 2 Axes>"
      ]
     },
     "metadata": {},
     "output_type": "display_data"
    }
   ],
   "source": [
    "plt.figure(figsize=(15,5))\n",
    "plt.subplot(1, 2, 1)\n",
    "plt.plot(train.history['accuracy'],'r', label='accuracy')\n",
    "plt.plot(train.history['val_accuracy'],'b', label = 'val_accuracy')\n",
    "plt.xlabel('Epoch')\n",
    "plt.ylabel('Accuracy')\n",
    "plt.legend()\n",
    "# plt.show()\n",
    "plt.subplot(1, 2, 2)\n",
    "plt.plot(train.history['loss'],'r', label='loss')\n",
    "plt.plot(train.history['val_loss'],'b', label = 'val_loss')\n",
    "plt.xlabel('Epoch')\n",
    "plt.ylabel('Loss')\n",
    "plt.legend()\n",
    "plt.show()"
   ]
  }
 ],
 "metadata": {
  "kernelspec": {
   "display_name": "Python 3",
   "language": "python",
   "name": "python3"
  },
  "language_info": {
   "codemirror_mode": {
    "name": "ipython",
    "version": 3
   },
   "file_extension": ".py",
   "mimetype": "text/x-python",
   "name": "python",
   "nbconvert_exporter": "python",
   "pygments_lexer": "ipython3",
   "version": "3.10.10"
  },
  "papermill": {
   "default_parameters": {},
   "duration": 851.575914,
   "end_time": "2023-05-14T17:23:28.870500",
   "environment_variables": {},
   "exception": null,
   "input_path": "__notebook__.ipynb",
   "output_path": "__notebook__.ipynb",
   "parameters": {},
   "start_time": "2023-05-14T17:09:17.294586",
   "version": "2.4.0"
  }
 },
 "nbformat": 4,
 "nbformat_minor": 5
}
